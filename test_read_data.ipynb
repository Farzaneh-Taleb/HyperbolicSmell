{
 "cells": [
  {
   "cell_type": "code",
   "id": "initial_id",
   "metadata": {
    "collapsed": true,
    "ExecuteTime": {
     "end_time": "2024-09-04T07:50:20.974723Z",
     "start_time": "2024-09-04T07:50:20.970837Z"
    }
   },
   "source": [
    "#install cpu-only version of pytorch\n",
    "from OdorDataset import OdorDataset\n",
    "base_dir = '../../../T5 EVO/alignment_olfaction_datasets/curated_datasets/embeddings/molformer/'"
   ],
   "outputs": [],
   "execution_count": 6
  },
  {
   "metadata": {
    "ExecuteTime": {
     "end_time": "2024-09-04T07:50:47.823905Z",
     "start_time": "2024-09-04T07:50:47.820999Z"
    }
   },
   "cell_type": "code",
   "source": "input_file_keller_molformer ='keller_molformer_embeddings_'+str(13)+'_Apr17.csv'",
   "id": "10b3c01e9e917989",
   "outputs": [],
   "execution_count": 10
  },
  {
   "metadata": {
    "ExecuteTime": {
     "end_time": "2024-09-04T07:50:48.591968Z",
     "start_time": "2024-09-04T07:50:48.587505Z"
    }
   },
   "cell_type": "code",
   "source": "input_file_keller_molformer",
   "id": "c15ca77a2498ee5a",
   "outputs": [
    {
     "data": {
      "text/plain": [
       "'keller_molformer_embeddings_13_Apr17.csv'"
      ]
     },
     "execution_count": 11,
     "metadata": {},
     "output_type": "execute_result"
    }
   ],
   "execution_count": 11
  },
  {
   "metadata": {
    "ExecuteTime": {
     "end_time": "2024-09-04T07:51:39.316584Z",
     "start_time": "2024-09-04T07:50:49.021034Z"
    }
   },
   "cell_type": "code",
   "source": "OdorDataset(base_dir, input_file_keller_molformer, transform=None)",
   "id": "bcaebc7b14d06670",
   "outputs": [
    {
     "data": {
      "text/plain": [
       "<OdorDataset.OdorDataset at 0x136ebedd0>"
      ]
     },
     "execution_count": 12,
     "metadata": {},
     "output_type": "execute_result"
    }
   ],
   "execution_count": 12
  },
  {
   "metadata": {},
   "cell_type": "code",
   "outputs": [],
   "execution_count": null,
   "source": "",
   "id": "8e012a11366d2d1a"
  }
 ],
 "metadata": {
  "kernelspec": {
   "display_name": "HyperbolicSmell",
   "language": "python",
   "name": "hyperbolicsmell"
  },
  "language_info": {
   "codemirror_mode": {
    "name": "ipython",
    "version": 2
   },
   "file_extension": ".py",
   "mimetype": "text/x-python",
   "name": "python",
   "nbconvert_exporter": "python",
   "pygments_lexer": "ipython2",
   "version": "2.7.6"
  }
 },
 "nbformat": 4,
 "nbformat_minor": 5
}
